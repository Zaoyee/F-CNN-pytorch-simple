{
 "cells": [
  {
   "cell_type": "code",
   "execution_count": 32,
   "metadata": {},
   "outputs": [],
   "source": [
    "import os\n",
    "from PIL import Image \n",
    "from IPython.display import display\n",
    "import matplotlib.pyplot as plt\n",
    "import numpy as np\n",
    "import torchvision.transforms as tfs\n",
    "from torch.utils.data import Dataset\n",
    "import torch\n",
    "from torch.utils.data import DataLoader\n",
    "%matplotlib inline"
   ]
  },
  {
   "cell_type": "code",
   "execution_count": 20,
   "metadata": {},
   "outputs": [],
   "source": [
    "root = './VOCdevkit/VOC2007'  \n",
    "def read_list(train=True):\n",
    "    root = './VOCdevkit/VOC2007'    \n",
    "    if train:\n",
    "        txt_name = root + '/ImageSets/Segmentation/train.txt'\n",
    "        with open(txt_name, 'r') as reader:\n",
    "            image_name_list = reader.read().split()\n",
    "        train_data = [os.path.join(root, 'JPEGImages', i+'.jpg') for i in image_name_list]\n",
    "        label = [os.path.join(root, 'SegmentationClass', i+'.png') for i in image_name_list]\n",
    "        return train_data, label\n",
    "    else:\n",
    "        txt_name = root + '/ImageSets/Segmentation/val.txt'\n",
    "        with open(txt_name, 'r') as reader:\n",
    "            image_name_list = reader.read().split()\n",
    "        test_data = [os.path.join(root, 'JPEGImages', i+'.jpg') for i in image_name_list]\n",
    "        label = [os.path.join(root, 'SegmentationClass', i+'.png') for i in image_name_list]\n",
    "        return test_data, label"
   ]
  },
  {
   "cell_type": "code",
   "execution_count": 21,
   "metadata": {},
   "outputs": [],
   "source": [
    "tempfilename_list = os.listdir(root + '/ImageSets/Main')\n",
    "for i, name in enumerate(tempfilename_list):\n",
    "    tempfilename_list[i] = name[:name.find('_')]\n",
    "classList = np.array([name for name in tempfilename_list if 'tx' not in name])\n",
    "classList = np.append(['background'], np.unique(classList))"
   ]
  },
  {
   "cell_type": "code",
   "execution_count": 22,
   "metadata": {},
   "outputs": [],
   "source": [
    "colormap = [[0,0,0],[128,0,0],[0,128,0], [128,128,0], [0,0,128],\n",
    "            [128,0,128],[0,128,128],[128,128,128],[64,0,0],[192,0,0],\n",
    "            [64,128,0],[192,128,0],[64,0,128],[192,0,128],\n",
    "            [64,128,128],[192,128,128],[0,64,0],[128,64,0],\n",
    "            [0,192,0],[128,192,0],[0,64,128]]"
   ]
  },
  {
   "cell_type": "code",
   "execution_count": 23,
   "metadata": {},
   "outputs": [],
   "source": [
    "cm2lbl = np.zeros(256**3) \n",
    "for i,cm in enumerate(colormap):\n",
    "    cm2lbl[(cm[0]*256+cm[1])*256+cm[2]] = i \n",
    "\n",
    "def image2label(im):\n",
    "    data = np.array(im, dtype='int32')\n",
    "    idx = (data[:, :, 0] * 256 + data[:, :, 1]) * 256 + data[:, :, 2]\n",
    "    return np.array(cm2lbl[idx], dtype='int64')"
   ]
  },
  {
   "cell_type": "code",
   "execution_count": 24,
   "metadata": {},
   "outputs": [],
   "source": [
    "def img_rndCrop(data, label, height, width):\n",
    "    data, rectangle = tfs.RandomCrop((height, width))(data)\n",
    "    label = tfs.FixedCrop(*rectangle)(label)\n",
    "    return data, label"
   ]
  },
  {
   "cell_type": "code",
   "execution_count": 25,
   "metadata": {},
   "outputs": [],
   "source": [
    "def img_transform(data, label, cropsize):\n",
    "    data, label = rand_Crop(data, label, cropsize)\n",
    "    tf_pipeline = tfs.Compose([tfs.ToTensor(),\n",
    "                          tfs.Normalize([0.485, 0.456, 0.406],\n",
    "                                        [0.229, 0.224, 0.225])])\n",
    "    data = tf_pipeline(data)\n",
    "    label = image2label(label)\n",
    "    label = torch.from_numpy(label)\n",
    "    return data, label"
   ]
  },
  {
   "cell_type": "code",
   "execution_count": 26,
   "metadata": {},
   "outputs": [],
   "source": [
    "def rand_Crop(img, label, crop_size):\n",
    "    # crop\n",
    "    start_x = np.random.randint(low=0,high=(img.size[0]-crop_size[0]+1))\n",
    "    end_x = start_x + crop_size[0]\n",
    "    start_y = np.random.randint(low=0,high=(img.size[1]-crop_size[1]+1))\n",
    "    end_y = start_y + crop_size[1]\n",
    "    crop = (start_y,start_x,end_y,end_x) # y1,x1,y2,x2\n",
    "    img = img.crop(crop)\n",
    "    label = label.crop(crop)\n",
    "    return(img, label)"
   ]
  },
  {
   "cell_type": "code",
   "execution_count": 27,
   "metadata": {},
   "outputs": [],
   "source": [
    "crop_size = [200,300]"
   ]
  },
  {
   "cell_type": "code",
   "execution_count": 28,
   "metadata": {},
   "outputs": [],
   "source": [
    "class VOCSegDataset(Dataset):\n",
    "    '''\n",
    "    voc dataset\n",
    "    '''\n",
    "    def __init__(self, trainflg, crop_size, transforms):\n",
    "        self.crop_size = crop_size\n",
    "        self.transforms = transforms\n",
    "        data_list, label_list = read_list(train=trainflg)\n",
    "        self.data_list = self._filter(data_list)\n",
    "        self.label_list = self._filter(label_list)\n",
    "        print('Read ' + str(len(self.data_list)) + ' images')\n",
    "        \n",
    "    def _filter(self, images):\n",
    "        return [im for im in images if (Image.open(im).size[0] >= self.crop_size[0] and \n",
    "                                        Image.open(im).size[1] >= self.crop_size[1])]\n",
    "        \n",
    "    def __getitem__(self, idx):\n",
    "        img = self.data_list[idx]\n",
    "        label = self.label_list[idx]\n",
    "        img = Image.open(img)\n",
    "        label = Image.open(label).convert('RGB')\n",
    "        img, label = self.transforms(img, label, self.crop_size)\n",
    "        return img, label\n",
    "    \n",
    "    def __len__(self):\n",
    "        return len(self.data_list)"
   ]
  },
  {
   "cell_type": "code",
   "execution_count": 29,
   "metadata": {},
   "outputs": [
    {
     "name": "stdout",
     "output_type": "stream",
     "text": [
      "Read 207 images\n"
     ]
    }
   ],
   "source": [
    "train_data = VOCSegDataset(True, [230,280], img_transform)"
   ]
  },
  {
   "cell_type": "code",
   "execution_count": 30,
   "metadata": {},
   "outputs": [
    {
     "name": "stdout",
     "output_type": "stream",
     "text": [
      "Read 208 images\n"
     ]
    }
   ],
   "source": [
    "test_data = VOCSegDataset(False, [230, 280], img_transform)"
   ]
  },
  {
   "cell_type": "code",
   "execution_count": 33,
   "metadata": {},
   "outputs": [],
   "source": [
    "train_d = DataLoader(train_data, 64, shuffle=True, num_workers=4)\n",
    "val_d = DataLoader(test_data, 128, shuffle=True, num_workers=4)"
   ]
  },
  {
   "cell_type": "code",
   "execution_count": 34,
   "metadata": {},
   "outputs": [
    {
     "data": {
      "text/plain": [
       "<__main__.VOCSegDataset at 0x113946790>"
      ]
     },
     "execution_count": 34,
     "metadata": {},
     "output_type": "execute_result"
    }
   ],
   "source": []
  },
  {
   "cell_type": "code",
   "execution_count": null,
   "metadata": {},
   "outputs": [],
   "source": []
  }
 ],
 "metadata": {
  "kernelspec": {
   "display_name": "Python 3",
   "language": "python",
   "name": "python3"
  },
  "language_info": {
   "codemirror_mode": {
    "name": "ipython",
    "version": 3
   },
   "file_extension": ".py",
   "mimetype": "text/x-python",
   "name": "python",
   "nbconvert_exporter": "python",
   "pygments_lexer": "ipython3",
   "version": "3.7.4"
  }
 },
 "nbformat": 4,
 "nbformat_minor": 4
}
